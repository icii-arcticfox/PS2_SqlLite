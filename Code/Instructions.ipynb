{
  "cells": [
    {
      "cell_type": "code",
      "execution_count": null,
      "id": "54667975",
      "metadata": {},
      "outputs": [],
      "source": []
    },
    {
      "cell_type": "markdown",
      "id": "b35ad12a",
      "metadata": {},
      "source": [
        "# SQLite Functions\n",
        "In this sandbox, we will shift away from the basics of creating custom automations to examples. This sandbox will highlight the usefulness of automations to setup and teardown functions. \n",
        "\n",
        "Another change in this Sandbox is that we will use this notebook for instructions and implement the sandbox in a plain python file. "
      ]
    },
    {
      "cell_type": "markdown",
      "id": "1d31df87",
      "metadata": {},
      "source": [
        "### Objective\n",
        "Our goal in this sandbox is to create a database connection, insert data into the database, and then retrieve the data. These are standard operations, and as such, we want to implement them as functions. "
      ]
    },
    {
      "cell_type": "markdown",
      "id": "d327251b",
      "metadata": {},
      "source": [
        "### Initial File\n",
        "First, start by looking over the initial version of Sandbox.py file. \n",
        "- In the create_database function we connect to  sqlite3 database, it will be created if it doesn't exist, and create a table if the table doesn't exist. \n",
        "- In the main function we call the create_database function \n",
        "- Later, we will insert data and recall / query the data"
      ]
    },
    {
      "cell_type": "markdown",
      "id": "13bc9c81",
      "metadata": {},
      "source": [
        "### Sql Automation\n",
        "Now, let's create an automation. When we create future SQLite functions we will always need to 1) connect to the database, 2) obtain a cursor, 3) perform our query / operation, and 4) commit and close the database. \n",
        "\n",
        "First, let's create the automation tag that we'll drop code into. Let's call the automation SqlFunction and place it right above the create_database function. It should look like this: \n",
        "```python \n",
        "[SqlFunction]\n",
        "def create_database():\n",
        "```"
      ]
    },
    {
      "cell_type": "markdown",
      "id": "7406a455",
      "metadata": {},
      "source": []
    },
    {
      "cell_type": "markdown",
      "id": "fe7dbd7c",
      "metadata": {},
      "source": []
    },
    {
      "cell_type": "code",
      "execution_count": null,
      "id": "841c2424",
      "metadata": {},
      "outputs": [],
      "source": []
    },
    {
      "cell_type": "code",
      "execution_count": null,
      "id": "9a3a3f96",
      "metadata": {},
      "outputs": [],
      "source": []
    }
  ],
  "metadata": {
    "language_info": {
      "name": "python"
    },
    "orig_nbformat": 4
  },
  "nbformat": 4,
  "nbformat_minor": 5
}