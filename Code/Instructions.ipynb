{
  "cells": [
    {
      "cell_type": "code",
      "execution_count": null,
      "id": "54667975",
      "metadata": {},
      "outputs": [],
      "source": []
    },
    {
      "cell_type": "markdown",
      "id": "b35ad12a",
      "metadata": {},
      "source": [
        "# SQLite Functions\n",
        "In this sandbox, we will shift away from the basics of creating custom automations to examples. This sandbox will highlight the usefulness of automations to setup and teardown functions. \n",
        "\n",
        "Another change in this Sandbox is that we will use this notebook for instructions and implement the sandbox in a plain python file. "
      ]
    },
    {
      "cell_type": "markdown",
      "id": "1d31df87",
      "metadata": {},
      "source": [
        "### Objective\n",
        "Our goal in this sandbox is to create a database connection, insert data into the database, and then retrieve the data. These are standard operations, and as such, we want to implement them as functions. "
      ]
    },
    {
      "cell_type": "markdown",
      "id": "d327251b",
      "metadata": {},
      "source": [
        "### Initial File\n",
        "First, start by looking over the initial version of Sandbox.py file. \n",
        "- In the create_database function we connect to  sqlite3 database, it will be created if it doesn't exist, and create a table if the table doesn't exist. \n",
        "- In the main function we call the create_database function \n",
        "- Later, we will insert data and recall / query the data"
      ]
    },
    {
      "cell_type": "markdown",
      "id": "13bc9c81",
      "metadata": {},
      "source": [
        "### Sql Automation\n",
        "Now, let's create an automation. When we create future SQLite functions we will always need to 1) connect to the database, 2) obtain a cursor, 3) perform our query / operation, and 4) commit and close the database. \n",
        "\n",
        "First, let's create the automation tag that we'll drop code into. Let's call the automation SqlFunction and place it right above the create_database function. It should look like this: \n",
        "```python \n",
        "[SqlFunction]\n",
        "def create_database():\n",
        "```"
      ]
    },
    {
      "cell_type": "markdown",
      "id": "7406a455",
      "metadata": {},
      "source": [
        "Next, let's highlight and drag and drop code into the SqlFunction automation. Highlight the lines below and drag and drop them onto the SqlFunction automation. \n",
        "```python\n",
        "    conn = sqlite3.connect(databaseName)\n",
        "    cursor = conn.cursor()\n",
        "```"
      ]
    },
    {
      "cell_type": "markdown",
      "id": "fe7dbd7c",
      "metadata": {},
      "source": [
        "Now, do the same with the following lines: \n",
        "```python\n",
        "    conn.commit()\n",
        "    conn.close()\n",
        "```"
      ]
    },
    {
      "cell_type": "markdown",
      "id": "5c647291",
      "metadata": {},
      "source": [
        "Now, automate your code. It likely looks like the image below:"
      ]
    },
    {
      "cell_type": "markdown",
      "id": "467f06b4",
      "metadata": {},
      "source": [
        "![Screen shot of code](Images/CodeScreenshot_1.png)"
      ]
    },
    {
      "cell_type": "markdown",
      "id": "0df39450",
      "metadata": {},
      "source": [
        "What??? This isn't what we wanted!! We want those snippets to be at the start and end of the function! Okay, simple enough, in the SqlFunction automation, just change self.CodeAfterAutomation to self.CodeScopeStart and self.CodeScopeEnd as would apply. Since the SqlFunction automation is attached to the create_database function (it's placed on the line right above the declaration) its viewed as belonging to the function's code scope.\n",
        "\n",
        "Now, automate your code and it should look like the following image:"
      ]
    },
    {
      "cell_type": "markdown",
      "id": "008a37f7",
      "metadata": {},
      "source": [
        "![Screen shot of code](Images/CodeScreenshot_2a.png)"
      ]
    },
    {
      "cell_type": "markdown",
      "id": "91551510",
      "metadata": {},
      "source": [
        "### Add an Insert Function\n",
        "Now that we've created our automation, let's use it! \n",
        "\n",
        "Let's make a function named insert_data and supply two inputs, a name and age. All we want to do is create the function and run our query, something like this: \n",
        "```python\n",
        "def insert_data(name, age):\n",
        "    cursor.execute('INSERT INTO users (name, age) VALUES (?, ?)', (name, age))\n",
        "```"
      ]
    },
    {
      "cell_type": "markdown",
      "id": "2784f23d",
      "metadata": {},
      "source": [
        "However, we need to connect to the database, get the cursor, commit the change, close it out etc. So, our function would end up looking like:\n",
        "```python\n",
        "def insert_data(name, age):\n",
        "    conn = sqlite3.connect(databaseName)\n",
        "    cursor = conn.cursor()\n",
        "\n",
        "    cursor.execute('INSERT INTO users (name, age) VALUES (?, ?)', (name, age))\n",
        "\n",
        "    conn.commit()\n",
        "    conn.close()\n",
        "```"
      ]
    },
    {
      "cell_type": "markdown",
      "id": "a764d7ed",
      "metadata": {},
      "source": [
        "So, let's use our SqlFunction automation! Add the following insert_data function to your file and attach an SqlFunction automation to the declaration: \n",
        "```python\n",
        "def insert_data(name, age):\n",
        "    cursor.execute('INSERT INTO users (name, age) VALUES (?, ?)', (name, age))\n",
        "```"
      ]
    },
    {
      "cell_type": "markdown",
      "id": "3b27d1f2",
      "metadata": {},
      "source": [
        "### Add a Query Funtion\n",
        "Let's keep it straight to the point, add a query_data function as seen below, and attach an SqlFunction automation:"
      ]
    },
    {
      "cell_type": "markdown",
      "id": "741f5c30",
      "metadata": {},
      "source": [
        "```python\n",
        "def query_data():\n",
        "    cursor.execute('SELECT * FROM users')\n",
        "    users = cursor.fetchall()\n",
        "    return users\n",
        "```"
      ]
    },
    {
      "cell_type": "markdown",
      "id": "4fe39828",
      "metadata": {},
      "source": [
        "With the SqlFunction automation attached, you will notice that the generated code for self.CodeScopeEnd is generated before the return statement. This is one example of Arctic Fox understanding the code environment and generating code where it will be used. "
      ]
    },
    {
      "cell_type": "markdown",
      "id": "9c2d4c44",
      "metadata": {},
      "source": [
        "### Tweaking the Automation\n",
        "You may have observed that querying data does not require committing the connection. We can modify the automation as follows.\n",
        "\n",
        "First, get the code of the function / code scope: \n",
        "```python\n",
        "        functionText = self.CodeScope.ToString()\n",
        "```\n",
        "\n",
        "Then, check if the function text include CREATE TABLE or INSERT INTO:\n",
        "```python\n",
        "        commitNeeded = 'CREATE TABLE' in functionText or 'INSERT INTO' in functionText\n",
        "```\n",
        "\n",
        "And finally, in self.CodeScopeEnd, modify conn.commit to only be generated if commitNeeded is true: \n",
        "```python\n",
        "(|conn.commit()|if commitNeeded |)\n",
        "```"
      ]
    },
    {
      "cell_type": "markdown",
      "id": "9b175571",
      "metadata": {},
      "source": [
        "Now, your automation should look like: "
      ]
    },
    {
      "cell_type": "markdown",
      "id": "1c2edd60",
      "metadata": {},
      "source": [
        "![Screen shot of code](Images/CodeScreenshot_3.png)"
      ]
    },
    {
      "cell_type": "markdown",
      "id": "acd6fded",
      "metadata": {},
      "source": [
        "### Finish Main Function\n",
        "Alright, let's wrap it up! In the main function, let's call these functions in main to use the data base. After create_database(), add some records to the database, maybe something like: \n",
        "```python\n",
        "    insert_data('Mia', 27)\n",
        "    insert_data('Malik', 19)\n",
        "    insert_data('Leo', 42)\n",
        "```\n",
        "\n",
        "Then, get the data and print it out, maybe something like: \n",
        "```python\n",
        "    users = query_data()\n",
        "    print('Users:')\n",
        "    for user in users:\n",
        "        print( user )\n",
        "```"
      ]
    },
    {
      "cell_type": "markdown",
      "id": "38f6ea41",
      "metadata": {},
      "source": [
        "Your Sandbox.py should like something like the following: \n",
        "![Screen shot of code](Images/CodeScreenshot_4.png)"
      ]
    },
    {
      "cell_type": "markdown",
      "id": "0a2f726c",
      "metadata": {},
      "source": [
        "And that's it! The focus of this sandbox is to use automation that is customized to a use case to make writing software easier. This is a small example. but it's not hard to how you would have dozens or hundreds of database functions / queries. Automation makes it faster to write code and prevents costly debugging time. What more could automation have done here? Well, there's many possibilities with databases, such as: \n",
        "- Write full function just given the query\n",
        "- Instantly change functions from connecting and closing each time to sharing a common connection\n",
        "- Quickly toggling printing query results for debugging / testing\n",
        "- Add error checking to items passed into queries\n",
        "\n",
        "And many more! See you in the next sandbox!"
      ]
    },
    {
      "cell_type": "code",
      "execution_count": null,
      "id": "9a3a3f96",
      "metadata": {},
      "outputs": [],
      "source": [
        "",
        ""
      ]
    }
  ],
  "metadata": {
    "language_info": {
      "name": "python"
    },
    "orig_nbformat": 4
  },
  "nbformat": 4,
  "nbformat_minor": 5
}